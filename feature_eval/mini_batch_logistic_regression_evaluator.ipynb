{
 "nbformat": 4,
 "nbformat_minor": 0,
 "metadata": {
  "kernelspec": {
   "name": "python3",
   "language": "python",
   "display_name": "Python 3"
  },
  "language_info": {
   "codemirror_mode": {
    "name": "ipython",
    "version": 3
   },
   "file_extension": ".py",
   "mimetype": "text/x-python",
   "name": "python",
   "nbconvert_exporter": "python",
   "pygments_lexer": "ipython3",
   "version": "3.6.6"
  },
  "colab": {
   "name": "Copy of mini-batch-logistic-regression-evaluator.ipynb",
   "provenance": [],
   "include_colab_link": true
  },
  "accelerator": "GPU",
  "widgets": {
   "application/vnd.jupyter.widget-state+json": {
    "149b9ce8fb68473a837a77431c12281a": {
     "model_module": "@jupyter-widgets/controls",
     "model_name": "HBoxModel",
     "state": {
      "_view_name": "HBoxView",
      "_dom_classes": [],
      "_model_name": "HBoxModel",
      "_view_module": "@jupyter-widgets/controls",
      "_model_module_version": "1.5.0",
      "_view_count": null,
      "_view_module_version": "1.5.0",
      "box_style": "",
      "layout": "IPY_MODEL_88cd3db2831e4c13a4a634709700d6b2",
      "_model_module": "@jupyter-widgets/controls",
      "children": [
       "IPY_MODEL_a88c31d74f5c40a2b24bcff5a35d216c",
       "IPY_MODEL_60c6150177694717a622936b830427b5"
      ]
     }
    },
    "88cd3db2831e4c13a4a634709700d6b2": {
     "model_module": "@jupyter-widgets/base",
     "model_name": "LayoutModel",
     "state": {
      "_view_name": "LayoutView",
      "grid_template_rows": null,
      "right": null,
      "justify_content": null,
      "_view_module": "@jupyter-widgets/base",
      "overflow": null,
      "_model_module_version": "1.2.0",
      "_view_count": null,
      "flex_flow": null,
      "width": null,
      "min_width": null,
      "border": null,
      "align_items": null,
      "bottom": null,
      "_model_module": "@jupyter-widgets/base",
      "top": null,
      "grid_column": null,
      "overflow_y": null,
      "overflow_x": null,
      "grid_auto_flow": null,
      "grid_area": null,
      "grid_template_columns": null,
      "flex": null,
      "_model_name": "LayoutModel",
      "justify_items": null,
      "grid_row": null,
      "max_height": null,
      "align_content": null,
      "visibility": null,
      "align_self": null,
      "height": null,
      "min_height": null,
      "padding": null,
      "grid_auto_rows": null,
      "grid_gap": null,
      "max_width": null,
      "order": null,
      "_view_module_version": "1.2.0",
      "grid_template_areas": null,
      "object_position": null,
      "object_fit": null,
      "grid_auto_columns": null,
      "margin": null,
      "display": null,
      "left": null
     }
    },
    "a88c31d74f5c40a2b24bcff5a35d216c": {
     "model_module": "@jupyter-widgets/controls",
     "model_name": "FloatProgressModel",
     "state": {
      "_view_name": "ProgressView",
      "style": "IPY_MODEL_dba019efadee4fdc8c799f309b9a7e70",
      "_dom_classes": [],
      "description": "",
      "_model_name": "FloatProgressModel",
      "bar_style": "info",
      "max": 1,
      "_view_module": "@jupyter-widgets/controls",
      "_model_module_version": "1.5.0",
      "value": 1,
      "_view_count": null,
      "_view_module_version": "1.5.0",
      "orientation": "horizontal",
      "min": 0,
      "description_tooltip": null,
      "_model_module": "@jupyter-widgets/controls",
      "layout": "IPY_MODEL_5901c2829a554c8ebbd5926610088041"
     }
    },
    "60c6150177694717a622936b830427b5": {
     "model_module": "@jupyter-widgets/controls",
     "model_name": "HTMLModel",
     "state": {
      "_view_name": "HTMLView",
      "style": "IPY_MODEL_957362a11d174407979cf17012bf9208",
      "_dom_classes": [],
      "description": "",
      "_model_name": "HTMLModel",
      "placeholder": "​",
      "_view_module": "@jupyter-widgets/controls",
      "_model_module_version": "1.5.0",
      "value": " 2640404480/? [00:51&lt;00:00, 32685718.58it/s]",
      "_view_count": null,
      "_view_module_version": "1.5.0",
      "description_tooltip": null,
      "_model_module": "@jupyter-widgets/controls",
      "layout": "IPY_MODEL_a4f82234388e4701a02a9f68a177193a"
     }
    },
    "dba019efadee4fdc8c799f309b9a7e70": {
     "model_module": "@jupyter-widgets/controls",
     "model_name": "ProgressStyleModel",
     "state": {
      "_view_name": "StyleView",
      "_model_name": "ProgressStyleModel",
      "description_width": "initial",
      "_view_module": "@jupyter-widgets/base",
      "_model_module_version": "1.5.0",
      "_view_count": null,
      "_view_module_version": "1.2.0",
      "bar_color": null,
      "_model_module": "@jupyter-widgets/controls"
     }
    },
    "5901c2829a554c8ebbd5926610088041": {
     "model_module": "@jupyter-widgets/base",
     "model_name": "LayoutModel",
     "state": {
      "_view_name": "LayoutView",
      "grid_template_rows": null,
      "right": null,
      "justify_content": null,
      "_view_module": "@jupyter-widgets/base",
      "overflow": null,
      "_model_module_version": "1.2.0",
      "_view_count": null,
      "flex_flow": null,
      "width": null,
      "min_width": null,
      "border": null,
      "align_items": null,
      "bottom": null,
      "_model_module": "@jupyter-widgets/base",
      "top": null,
      "grid_column": null,
      "overflow_y": null,
      "overflow_x": null,
      "grid_auto_flow": null,
      "grid_area": null,
      "grid_template_columns": null,
      "flex": null,
      "_model_name": "LayoutModel",
      "justify_items": null,
      "grid_row": null,
      "max_height": null,
      "align_content": null,
      "visibility": null,
      "align_self": null,
      "height": null,
      "min_height": null,
      "padding": null,
      "grid_auto_rows": null,
      "grid_gap": null,
      "max_width": null,
      "order": null,
      "_view_module_version": "1.2.0",
      "grid_template_areas": null,
      "object_position": null,
      "object_fit": null,
      "grid_auto_columns": null,
      "margin": null,
      "display": null,
      "left": null
     }
    },
    "957362a11d174407979cf17012bf9208": {
     "model_module": "@jupyter-widgets/controls",
     "model_name": "DescriptionStyleModel",
     "state": {
      "_view_name": "StyleView",
      "_model_name": "DescriptionStyleModel",
      "description_width": "",
      "_view_module": "@jupyter-widgets/base",
      "_model_module_version": "1.5.0",
      "_view_count": null,
      "_view_module_version": "1.2.0",
      "_model_module": "@jupyter-widgets/controls"
     }
    },
    "a4f82234388e4701a02a9f68a177193a": {
     "model_module": "@jupyter-widgets/base",
     "model_name": "LayoutModel",
     "state": {
      "_view_name": "LayoutView",
      "grid_template_rows": null,
      "right": null,
      "justify_content": null,
      "_view_module": "@jupyter-widgets/base",
      "overflow": null,
      "_model_module_version": "1.2.0",
      "_view_count": null,
      "flex_flow": null,
      "width": null,
      "min_width": null,
      "border": null,
      "align_items": null,
      "bottom": null,
      "_model_module": "@jupyter-widgets/base",
      "top": null,
      "grid_column": null,
      "overflow_y": null,
      "overflow_x": null,
      "grid_auto_flow": null,
      "grid_area": null,
      "grid_template_columns": null,
      "flex": null,
      "_model_name": "LayoutModel",
      "justify_items": null,
      "grid_row": null,
      "max_height": null,
      "align_content": null,
      "visibility": null,
      "align_self": null,
      "height": null,
      "min_height": null,
      "padding": null,
      "grid_auto_rows": null,
      "grid_gap": null,
      "max_width": null,
      "order": null,
      "_view_module_version": "1.2.0",
      "grid_template_areas": null,
      "object_position": null,
      "object_fit": null,
      "grid_auto_columns": null,
      "margin": null,
      "display": null,
      "left": null
     }
    }
   }
  }
 },
 "cells": [
  {
   "cell_type": "markdown",
   "metadata": {
    "id": "view-in-github",
    "colab_type": "text"
   },
   "source": [
    "<a href=\"https://colab.research.google.com/github/sthalles/SimCLR/blob/simclr-refactor/feature_eval/mini_batch_logistic_regression_evaluator.ipynb\" target=\"_parent\"><img src=\"https://colab.research.google.com/assets/colab-badge.svg\" alt=\"Open In Colab\"/></a>"
   ]
  },
  {
   "cell_type": "code",
   "metadata": {
    "id": "YUemQib7ZE4D"
   },
   "source": [
    "import torch\n",
    "import sys\n",
    "import numpy as np\n",
    "import os\n",
    "import yaml\n",
    "import matplotlib.pyplot as plt\n",
    "import torchvision"
   ],
   "execution_count": 1,
   "outputs": []
  },
  {
   "cell_type": "code",
   "metadata": {
    "id": "WSgRE1CcLqdS",
    "colab": {
     "base_uri": "https://localhost:8080/"
    },
    "outputId": "48a2ae15-f672-495b-8d43-9a23b85fa3b8"
   },
   "source": [
    "!pip install gdown"
   ],
   "execution_count": 2,
   "outputs": [
    {
     "name": "stdout",
     "output_type": "stream",
     "text": [
      "Collecting gdown\r\n",
      "  Downloading gdown-3.13.0.tar.gz (9.3 kB)\r\n",
      "  Installing build dependencies ... \u001B[?25l-\b \b\\\b \b|\b \b/\b \bdone\r\n",
      "\u001B[?25h  Getting requirements to build wheel ... \u001B[?25l-\b \bdone\r\n",
      "\u001B[?25h    Preparing wheel metadata ... \u001B[?25l-\b \bdone\r\n",
      "\u001B[?25hRequirement already satisfied: tqdm in /home/jianhui/anaconda3/envs/SimCLR/lib/python3.8/site-packages (from gdown) (4.61.2)\r\n",
      "Requirement already satisfied: requests[socks]>=2.12.0 in /home/jianhui/anaconda3/envs/SimCLR/lib/python3.8/site-packages (from gdown) (2.25.1)\r\n",
      "Requirement already satisfied: six in /home/jianhui/anaconda3/envs/SimCLR/lib/python3.8/site-packages (from gdown) (1.16.0)\r\n",
      "Collecting filelock\r\n",
      "  Using cached filelock-3.0.12-py3-none-any.whl (7.6 kB)\r\n",
      "Requirement already satisfied: certifi>=2017.4.17 in /home/jianhui/anaconda3/envs/SimCLR/lib/python3.8/site-packages (from requests[socks]>=2.12.0->gdown) (2021.5.30)\r\n",
      "Requirement already satisfied: urllib3<1.27,>=1.21.1 in /home/jianhui/anaconda3/envs/SimCLR/lib/python3.8/site-packages (from requests[socks]>=2.12.0->gdown) (1.26.6)\r\n",
      "Requirement already satisfied: idna<3,>=2.5 in /home/jianhui/anaconda3/envs/SimCLR/lib/python3.8/site-packages (from requests[socks]>=2.12.0->gdown) (2.10)\r\n",
      "Requirement already satisfied: chardet<5,>=3.0.2 in /home/jianhui/anaconda3/envs/SimCLR/lib/python3.8/site-packages (from requests[socks]>=2.12.0->gdown) (3.0.4)\r\n",
      "Requirement already satisfied: PySocks!=1.5.7,>=1.5.6 in /home/jianhui/anaconda3/envs/SimCLR/lib/python3.8/site-packages (from requests[socks]>=2.12.0->gdown) (1.7.1)\r\n",
      "Building wheels for collected packages: gdown\r\n",
      "  Building wheel for gdown (PEP 517) ... \u001B[?25l-\b \bdone\r\n",
      "\u001B[?25h  Created wheel for gdown: filename=gdown-3.13.0-py3-none-any.whl size=9034 sha256=162aced63bd1a573acee54386f00b0327bd8104aeb1b7239344c0b7154bd6db2\r\n",
      "  Stored in directory: /home/jianhui/.cache/pip/wheels/04/51/53/ed3e97af28b242e9eb81afb4836273fbe233a14228aa82fea3\r\n",
      "Successfully built gdown\r\n",
      "Installing collected packages: filelock, gdown\r\n",
      "Successfully installed filelock-3.0.12 gdown-3.13.0\r\n"
     ]
    }
   ]
  },
  {
   "cell_type": "code",
   "metadata": {
    "id": "NOIJEui1ZziV"
   },
   "source": [
    "def get_file_id_by_model(folder_name):\n",
    "  file_id = {'resnet18_100-epochs_stl10': '14_nH2FkyKbt61cieQDiSbBVNP8-gtwgF',\n",
    "             'resnet18_100-epochs_cifar10': '1lc2aoVtrAetGn0PnTkOyFzPCIucOJq7C',\n",
    "             'resnet50_50-epochs_stl10': '1ByTKAUsdm_X7tLcii6oAEl5qFRqRMZSu'}\n",
    "  return file_id.get(folder_name, \"Model not found.\")"
   ],
   "execution_count": 3,
   "outputs": []
  },
  {
   "cell_type": "code",
   "metadata": {
    "id": "G7YMxsvEZMrX",
    "colab": {
     "base_uri": "https://localhost:8080/"
    },
    "outputId": "59475430-69d2-45a2-b61b-ae755d5d6e88"
   },
   "source": [
    "folder_name = 'resnet50_50-epochs_stl10'\n",
    "file_id = get_file_id_by_model(folder_name)\n",
    "print(folder_name, file_id)"
   ],
   "execution_count": 4,
   "outputs": [
    {
     "name": "stdout",
     "output_type": "stream",
     "text": [
      "resnet50_50-epochs_stl10 1ByTKAUsdm_X7tLcii6oAEl5qFRqRMZSu\n"
     ]
    }
   ]
  },
  {
   "cell_type": "code",
   "metadata": {
    "id": "PWZ8fet_YoJm",
    "colab": {
     "base_uri": "https://localhost:8080/"
    },
    "outputId": "fbaeb858-221b-4d1b-dd90-001a6e713b75"
   },
   "source": [
    "# download and extract model files\n",
    "os.system('gdown https://drive.google.com/uc?id={}'.format(file_id))\n",
    "os.system('unzip {}'.format(folder_name))\n",
    "!ls"
   ],
   "execution_count": 5,
   "outputs": [
    {
     "name": "stdout",
     "output_type": "stream",
     "text": [
      "checkpoint_0040.pth.tar\r\n",
      "config.yml\r\n",
      "events.out.tfevents.1610927742.4cb2c837708d.2694093.0\r\n",
      "mini_batch_logistic_regression_evaluator.ipynb\r\n",
      "resnet50_50-epochs_stl10.zip\r\n",
      "training.log\r\n"
     ]
    }
   ]
  },
  {
   "cell_type": "code",
   "execution_count": 6,
   "outputs": [
    {
     "name": "stdout",
     "output_type": "stream",
     "text": [
      "/home/jianhui/MSO/SimCLR/feature_eval\r\n"
     ]
    }
   ],
   "source": [
    "!pwd"
   ],
   "metadata": {
    "collapsed": false,
    "pycharm": {
     "name": "#%%\n"
    }
   }
  },
  {
   "cell_type": "code",
   "metadata": {
    "id": "3_nypQVEv-hn"
   },
   "source": [
    "from torch.utils.data import DataLoader\n",
    "import torchvision.transforms as transforms\n",
    "from torchvision import datasets"
   ],
   "execution_count": 2,
   "outputs": []
  },
  {
   "cell_type": "code",
   "metadata": {
    "id": "lDfbL3w_Z0Od",
    "colab": {
     "base_uri": "https://localhost:8080/"
    },
    "outputId": "7532966e-1c4a-4641-c928-4cda14c53389"
   },
   "source": [
    "device = 'cuda' if torch.cuda.is_available() else 'cpu'\n",
    "device = 'cpu'\n",
    "print(\"Using device:\", device)"
   ],
   "execution_count": 3,
   "outputs": [
    {
     "name": "stdout",
     "output_type": "stream",
     "text": [
      "Using device: cpu\n"
     ]
    }
   ]
  },
  {
   "cell_type": "code",
   "metadata": {
    "id": "BfIPl0G6_RrT"
   },
   "source": [
    "def get_stl10_data_loaders(download, shuffle=False, batch_size=256):\n",
    "  train_dataset = datasets.STL10('./data', split='train', download=download,\n",
    "                                  transform=transforms.ToTensor())\n",
    "\n",
    "  train_loader = DataLoader(train_dataset, batch_size=batch_size,\n",
    "                            num_workers=0, drop_last=False, shuffle=shuffle)\n",
    "  \n",
    "  test_dataset = datasets.STL10('./data', split='test', download=download,\n",
    "                                  transform=transforms.ToTensor())\n",
    "\n",
    "  test_loader = DataLoader(test_dataset, batch_size=2*batch_size,\n",
    "                            num_workers=10, drop_last=False, shuffle=shuffle)\n",
    "  return train_loader, test_loader\n",
    "\n",
    "def get_cifar10_data_loaders(download, shuffle=False, batch_size=256):\n",
    "  train_dataset = datasets.CIFAR10('./data', train=True, download=download,\n",
    "                                  transform=transforms.ToTensor())\n",
    "\n",
    "  train_loader = DataLoader(train_dataset, batch_size=batch_size,\n",
    "                            num_workers=0, drop_last=False, shuffle=shuffle)\n",
    "  \n",
    "  test_dataset = datasets.CIFAR10('./data', train=False, download=download,\n",
    "                                  transform=transforms.ToTensor())\n",
    "\n",
    "  test_loader = DataLoader(test_dataset, batch_size=2*batch_size,\n",
    "                            num_workers=10, drop_last=False, shuffle=shuffle)\n",
    "  return train_loader, test_loader\n",
    "\n",
    "def get_MSO_data_loaders(shuffle=False, batch_size=256):\n",
    "  from datasets.mso_dataset import MSODataset\n",
    "\n",
    "  dataset = MSODataset(root_dir='../../MSO/Preliminary_Image_Dataset',\n",
    "                        transform=transforms.Compose(\n",
    "                            [transforms.Resize((224,224)),\n",
    "                             transforms.ToTensor()]\n",
    "                        ))\n",
    "\n",
    "  train_size = int(0.8 * len(dataset))\n",
    "  test_size = len(dataset) - train_size\n",
    "  train_dataset, test_dataset = torch.utils.data.random_split(dataset, [train_size, test_size])\n",
    "\n",
    "  train_loader = DataLoader(train_dataset, batch_size=batch_size,\n",
    "                            num_workers=0, drop_last=False, shuffle=shuffle)\n",
    "\n",
    "  test_loader = DataLoader(test_dataset, batch_size=2*batch_size,\n",
    "                            num_workers=10, drop_last=False, shuffle=shuffle)\n",
    "\n",
    "  return train_loader, test_loader"
   ],
   "execution_count": 4,
   "outputs": []
  },
  {
   "cell_type": "code",
   "metadata": {
    "id": "6N8lYkbmDTaK"
   },
   "source": [
    "with open(os.path.join('./config.yml')) as file:\n",
    "  config = yaml.safe_load(file)"
   ],
   "execution_count": 5,
   "outputs": []
  },
  {
   "cell_type": "code",
   "execution_count": 6,
   "outputs": [
    {
     "data": {
      "text/plain": "{'arch': 'resnet18',\n 'batch_size': 128,\n 'data': '../datasets',\n 'dataset_name': 'MSO',\n 'disable_cuda': False,\n 'epochs': 40,\n 'fp16_precision': False,\n 'gpu_index': 0,\n 'log_every_n_steps': 100,\n 'lr': 0.0003,\n 'n_views': 2,\n 'out_dim': 128,\n 'seed': None,\n 'temperature': 0.07,\n 'weight_decay': 0.0001,\n 'workers': 12}"
     },
     "execution_count": 6,
     "metadata": {},
     "output_type": "execute_result"
    }
   ],
   "source": [
    "config"
   ],
   "metadata": {
    "collapsed": false,
    "pycharm": {
     "name": "#%%\n"
    }
   }
  },
  {
   "cell_type": "code",
   "execution_count": 7,
   "outputs": [
    {
     "data": {
      "text/plain": "'resnet18'"
     },
     "execution_count": 7,
     "metadata": {},
     "output_type": "execute_result"
    }
   ],
   "source": [
    "config['arch']"
   ],
   "metadata": {
    "collapsed": false,
    "pycharm": {
     "name": "#%%\n"
    }
   }
  },
  {
   "cell_type": "code",
   "metadata": {
    "id": "a18lPD-tIle6"
   },
   "source": [
    "if config['arch'] == 'resnet18':\n",
    "  model = torchvision.models.resnet18(pretrained=False, num_classes=11).to(device)\n",
    "elif config['arch'] == 'resnet50':\n",
    "  model = torchvision.models.resnet50(pretrained=False, num_classes=10).to(device)"
   ],
   "execution_count": 8,
   "outputs": []
  },
  {
   "cell_type": "code",
   "metadata": {
    "id": "4AIfgq41GuTT"
   },
   "source": [
    "checkpoint = torch.load('checkpoint_0200.pth.tar', map_location=device)\n",
    "state_dict = checkpoint['state_dict']\n",
    "\n",
    "for k in list(state_dict.keys()):\n",
    "\n",
    "  if k.startswith('backbone.'):\n",
    "    if k.startswith('backbone') and not k.startswith('backbone.fc'):\n",
    "      # remove prefix\n",
    "      state_dict[k[len(\"backbone.\"):]] = state_dict[k]\n",
    "  del state_dict[k]"
   ],
   "execution_count": 9,
   "outputs": []
  },
  {
   "cell_type": "code",
   "metadata": {
    "id": "VVjA83PPJYWl"
   },
   "source": [
    "log = model.load_state_dict(state_dict, strict=False)\n",
    "assert log.missing_keys == ['fc.weight', 'fc.bias']"
   ],
   "execution_count": 10,
   "outputs": []
  },
  {
   "cell_type": "code",
   "metadata": {
    "id": "_GC0a14uWRr6",
    "colab": {
     "base_uri": "https://localhost:8080/",
     "height": 117,
     "referenced_widgets": [
      "149b9ce8fb68473a837a77431c12281a",
      "88cd3db2831e4c13a4a634709700d6b2",
      "a88c31d74f5c40a2b24bcff5a35d216c",
      "60c6150177694717a622936b830427b5",
      "dba019efadee4fdc8c799f309b9a7e70",
      "5901c2829a554c8ebbd5926610088041",
      "957362a11d174407979cf17012bf9208",
      "a4f82234388e4701a02a9f68a177193a"
     ]
    },
    "outputId": "4c2558db-921c-425e-f947-6cc746d8c749"
   },
   "source": [
    "if config['dataset_name'] == 'cifar10':\n",
    "  train_loader, test_loader = get_cifar10_data_loaders(download=True)\n",
    "elif config['dataset_name'] == 'stl10':\n",
    "  train_loader, test_loader = get_stl10_data_loaders(download=True)\n",
    "elif config['dataset_name'] == 'MSO':\n",
    "  train_loader, test_loader = get_MSO_data_loaders()\n",
    "print(\"Dataset:\", config['dataset_name'])"
   ],
   "execution_count": 11,
   "outputs": [
    {
     "name": "stdout",
     "output_type": "stream",
     "text": [
      "Dataset: MSO\n"
     ]
    }
   ]
  },
  {
   "cell_type": "code",
   "metadata": {
    "id": "pYT_KsM0Mnnr"
   },
   "source": [
    "# freeze all layers but the last fc\n",
    "for name, param in model.named_parameters():\n",
    "    if name not in ['fc.weight', 'fc.bias']:\n",
    "        param.requires_grad = False\n",
    "\n",
    "parameters = list(filter(lambda p: p.requires_grad, model.parameters()))\n",
    "assert len(parameters) == 2  # fc.weight, fc.bias"
   ],
   "execution_count": 12,
   "outputs": []
  },
  {
   "cell_type": "code",
   "metadata": {
    "id": "aPVh1S_eMRDU"
   },
   "source": [
    "optimizer = torch.optim.Adam(model.parameters(), lr=3e-4, weight_decay=0.0008)\n",
    "criterion = torch.nn.CrossEntropyLoss().to(device)"
   ],
   "execution_count": 13,
   "outputs": []
  },
  {
   "cell_type": "code",
   "metadata": {
    "id": "edr6RhP2PdVq"
   },
   "source": [
    "def accuracy(output, target, topk=(1,)):\n",
    "    \"\"\"Computes the accuracy over the k top predictions for the specified values of k\"\"\"\n",
    "    with torch.no_grad():\n",
    "        maxk = max(topk)\n",
    "        batch_size = target.size(0)\n",
    "\n",
    "        _, pred = output.topk(maxk, 1, True, True)\n",
    "        pred = pred.t()\n",
    "        correct = pred.eq(target.view(1, -1).expand_as(pred))\n",
    "\n",
    "        res = []\n",
    "        for k in topk:\n",
    "            correct_k = correct[:k].reshape(-1).float().sum(0, keepdim=True)\n",
    "            res.append(correct_k.mul_(100.0 / batch_size))\n",
    "        return res"
   ],
   "execution_count": 14,
   "outputs": []
  },
  {
   "cell_type": "code",
   "metadata": {
    "id": "qOder0dAMI7X",
    "colab": {
     "base_uri": "https://localhost:8080/"
    },
    "outputId": "5f723b91-5a5e-43eb-ca01-a9b5ae2f1346"
   },
   "source": [
    "epochs = 100\n",
    "for epoch in range(epochs):\n",
    "  top1_train_accuracy = 0\n",
    "  for counter, (x_batch, y_batch) in enumerate(train_loader):\n",
    "    x_batch = x_batch.to(device)\n",
    "    y_batch = y_batch.to(device)\n",
    "\n",
    "    logits = model(x_batch)\n",
    "    loss = criterion(logits, y_batch)\n",
    "    top1 = accuracy(logits, y_batch, topk=(1,))\n",
    "    top1_train_accuracy += top1[0]\n",
    "\n",
    "    optimizer.zero_grad()\n",
    "    loss.backward()\n",
    "    optimizer.step()\n",
    "\n",
    "  top1_train_accuracy /= (counter + 1)\n",
    "  top1_accuracy = 0\n",
    "  top5_accuracy = 0\n",
    "  for counter, (x_batch, y_batch) in enumerate(test_loader):\n",
    "    x_batch = x_batch.to(device)\n",
    "    y_batch = y_batch.to(device)\n",
    "\n",
    "    logits = model(x_batch)\n",
    "  \n",
    "    top1, top5 = accuracy(logits, y_batch, topk=(1,5))\n",
    "    top1_accuracy += top1[0]\n",
    "    top5_accuracy += top5[0]\n",
    "  \n",
    "  top1_accuracy /= (counter + 1)\n",
    "  top5_accuracy /= (counter + 1)\n",
    "  print(f\"Epoch {epoch}\\tTop1 Train accuracy {top1_train_accuracy.item()}\\tTop1 Test accuracy: {top1_accuracy.item()}\\tTop5 test acc: {top5_accuracy.item()}\")\n"
   ],
   "execution_count": 15,
   "outputs": [
    {
     "name": "stderr",
     "output_type": "stream",
     "text": [
      "/home/jianhui/anaconda3/envs/SimCLR/lib/python3.8/site-packages/torch/nn/functional.py:718: UserWarning: Named tensors and all their associated APIs are an experimental feature and subject to change. Please do not use them for anything important until they are released as stable. (Triggered internally at  /opt/conda/conda-bld/pytorch_1623448234945/work/c10/core/TensorImpl.h:1156.)\n",
      "  return torch.max_pool2d(input, kernel_size, stride, padding, dilation, ceil_mode)\n"
     ]
    },
    {
     "name": "stdout",
     "output_type": "stream",
     "text": [
      "Epoch 0\tTop1 Train accuracy 15.408587455749512\tTop1 Test accuracy: 24.8147029876709\tTop5 test acc: 72.16546630859375\n",
      "Epoch 1\tTop1 Train accuracy 36.921348571777344\tTop1 Test accuracy: 40.99392318725586\tTop5 test acc: 87.50667572021484\n",
      "Epoch 2\tTop1 Train accuracy 50.74835968017578\tTop1 Test accuracy: 50.97990036010742\tTop5 test acc: 91.76348876953125\n",
      "Epoch 3\tTop1 Train accuracy 56.63116455078125\tTop1 Test accuracy: 53.453857421875\tTop5 test acc: 93.07391357421875\n",
      "Epoch 4\tTop1 Train accuracy 60.49281311035156\tTop1 Test accuracy: 55.406982421875\tTop5 test acc: 93.26922607421875\n",
      "Epoch 5\tTop1 Train accuracy 62.36994552612305\tTop1 Test accuracy: 59.20806884765625\tTop5 test acc: 93.65985107421875\n",
      "Epoch 6\tTop1 Train accuracy 64.22454833984375\tTop1 Test accuracy: 59.92421340942383\tTop5 test acc: 93.85516357421875\n",
      "Epoch 7\tTop1 Train accuracy 65.42736053466797\tTop1 Test accuracy: 62.0893440246582\tTop5 test acc: 94.1806869506836\n",
      "Epoch 8\tTop1 Train accuracy 66.33851623535156\tTop1 Test accuracy: 62.61017990112305\tTop5 test acc: 94.24578857421875\n",
      "Epoch 9\tTop1 Train accuracy 67.08177185058594\tTop1 Test accuracy: 62.80549240112305\tTop5 test acc: 93.71661376953125\n",
      "Epoch 10\tTop1 Train accuracy 67.7406234741211\tTop1 Test accuracy: 64.31123352050781\tTop5 test acc: 93.71661376953125\n",
      "Epoch 11\tTop1 Train accuracy 68.2920913696289\tTop1 Test accuracy: 64.37633514404297\tTop5 test acc: 93.7817153930664\n",
      "Epoch 12\tTop1 Train accuracy 68.76712036132812\tTop1 Test accuracy: 64.63675689697266\tTop5 test acc: 94.7666244506836\n",
      "Epoch 13\tTop1 Train accuracy 69.0583267211914\tTop1 Test accuracy: 65.02738189697266\tTop5 test acc: 94.83172607421875\n",
      "Epoch 14\tTop1 Train accuracy 69.54086303710938\tTop1 Test accuracy: 66.99720001220703\tTop5 test acc: 94.83172607421875\n",
      "Epoch 15\tTop1 Train accuracy 69.91646575927734\tTop1 Test accuracy: 66.93209075927734\tTop5 test acc: 94.83172607421875\n",
      "Epoch 16\tTop1 Train accuracy 70.26113891601562\tTop1 Test accuracy: 67.12740325927734\tTop5 test acc: 94.83172607421875\n",
      "Epoch 17\tTop1 Train accuracy 70.78211975097656\tTop1 Test accuracy: 67.06230163574219\tTop5 test acc: 94.9619369506836\n",
      "Epoch 18\tTop1 Train accuracy 70.98892211914062\tTop1 Test accuracy: 67.19251251220703\tTop5 test acc: 94.9619369506836\n",
      "Epoch 19\tTop1 Train accuracy 71.0808334350586\tTop1 Test accuracy: 67.45292663574219\tTop5 test acc: 95.02703857421875\n",
      "Epoch 20\tTop1 Train accuracy 71.4100341796875\tTop1 Test accuracy: 67.71334075927734\tTop5 test acc: 95.0921401977539\n",
      "Epoch 21\tTop1 Train accuracy 71.59385681152344\tTop1 Test accuracy: 67.77845001220703\tTop5 test acc: 95.1572494506836\n",
      "Epoch 22\tTop1 Train accuracy 71.93852996826172\tTop1 Test accuracy: 67.90865325927734\tTop5 test acc: 95.1572494506836\n",
      "Epoch 23\tTop1 Train accuracy 72.09937286376953\tTop1 Test accuracy: 68.10396575927734\tTop5 test acc: 95.22235107421875\n",
      "Epoch 24\tTop1 Train accuracy 72.26021575927734\tTop1 Test accuracy: 68.29927825927734\tTop5 test acc: 95.1572494506836\n",
      "Epoch 25\tTop1 Train accuracy 72.48248291015625\tTop1 Test accuracy: 68.42948913574219\tTop5 test acc: 96.07705688476562\n",
      "Epoch 26\tTop1 Train accuracy 72.78871154785156\tTop1 Test accuracy: 69.21908569335938\tTop5 test acc: 96.01195526123047\n",
      "Epoch 27\tTop1 Train accuracy 72.92657470703125\tTop1 Test accuracy: 69.21908569335938\tTop5 test acc: 96.01195526123047\n",
      "Epoch 28\tTop1 Train accuracy 73.04146575927734\tTop1 Test accuracy: 69.54460906982422\tTop5 test acc: 96.01195526123047\n",
      "Epoch 29\tTop1 Train accuracy 73.22528839111328\tTop1 Test accuracy: 69.54460906982422\tTop5 test acc: 96.01195526123047\n",
      "Epoch 30\tTop1 Train accuracy 73.4780502319336\tTop1 Test accuracy: 69.67481231689453\tTop5 test acc: 96.07705688476562\n",
      "Epoch 31\tTop1 Train accuracy 73.67733764648438\tTop1 Test accuracy: 69.67481231689453\tTop5 test acc: 96.9317626953125\n",
      "Epoch 32\tTop1 Train accuracy 73.8152084350586\tTop1 Test accuracy: 69.93523406982422\tTop5 test acc: 96.99686431884766\n",
      "Epoch 33\tTop1 Train accuracy 73.95307159423828\tTop1 Test accuracy: 70.00033569335938\tTop5 test acc: 97.06197357177734\n",
      "Epoch 34\tTop1 Train accuracy 73.99903106689453\tTop1 Test accuracy: 69.14563751220703\tTop5 test acc: 97.06197357177734\n",
      "Epoch 35\tTop1 Train accuracy 74.2058334350586\tTop1 Test accuracy: 69.27584075927734\tTop5 test acc: 97.06197357177734\n",
      "Epoch 36\tTop1 Train accuracy 74.26726531982422\tTop1 Test accuracy: 69.27584075927734\tTop5 test acc: 97.1270751953125\n",
      "Epoch 37\tTop1 Train accuracy 74.31321716308594\tTop1 Test accuracy: 69.27584075927734\tTop5 test acc: 97.1270751953125\n",
      "Epoch 38\tTop1 Train accuracy 74.35917663574219\tTop1 Test accuracy: 69.14563751220703\tTop5 test acc: 97.1270751953125\n",
      "Epoch 39\tTop1 Train accuracy 74.47406005859375\tTop1 Test accuracy: 69.27584075927734\tTop5 test acc: 97.1270751953125\n",
      "Epoch 40\tTop1 Train accuracy 74.49703979492188\tTop1 Test accuracy: 69.27584075927734\tTop5 test acc: 97.1270751953125\n",
      "Epoch 41\tTop1 Train accuracy 74.65037536621094\tTop1 Test accuracy: 69.40605163574219\tTop5 test acc: 97.1270751953125\n",
      "Epoch 42\tTop1 Train accuracy 74.7422866821289\tTop1 Test accuracy: 69.53626251220703\tTop5 test acc: 97.1270751953125\n",
      "Epoch 43\tTop1 Train accuracy 74.7422866821289\tTop1 Test accuracy: 69.66646575927734\tTop5 test acc: 97.1270751953125\n",
      "Epoch 44\tTop1 Train accuracy 74.8037109375\tTop1 Test accuracy: 69.60136413574219\tTop5 test acc: 97.1270751953125\n",
      "Epoch 45\tTop1 Train accuracy 74.96455383300781\tTop1 Test accuracy: 70.45606231689453\tTop5 test acc: 97.1270751953125\n",
      "Epoch 46\tTop1 Train accuracy 75.03349304199219\tTop1 Test accuracy: 70.58627319335938\tTop5 test acc: 97.1270751953125\n",
      "Epoch 47\tTop1 Train accuracy 75.0794448852539\tTop1 Test accuracy: 70.65137481689453\tTop5 test acc: 97.1270751953125\n",
      "Epoch 48\tTop1 Train accuracy 75.12540435791016\tTop1 Test accuracy: 71.44097137451172\tTop5 test acc: 97.19217681884766\n",
      "Epoch 49\tTop1 Train accuracy 75.33220672607422\tTop1 Test accuracy: 71.5060806274414\tTop5 test acc: 97.19217681884766\n",
      "Epoch 50\tTop1 Train accuracy 75.38567352294922\tTop1 Test accuracy: 71.44097137451172\tTop5 test acc: 97.19217681884766\n",
      "Epoch 51\tTop1 Train accuracy 75.40864562988281\tTop1 Test accuracy: 71.5060806274414\tTop5 test acc: 97.19217681884766\n",
      "Epoch 52\tTop1 Train accuracy 75.43162536621094\tTop1 Test accuracy: 71.5060806274414\tTop5 test acc: 97.19217681884766\n",
      "Epoch 53\tTop1 Train accuracy 75.54651641845703\tTop1 Test accuracy: 71.5060806274414\tTop5 test acc: 97.25728607177734\n",
      "Epoch 54\tTop1 Train accuracy 75.638427734375\tTop1 Test accuracy: 71.5060806274414\tTop5 test acc: 97.25728607177734\n",
      "Epoch 55\tTop1 Train accuracy 75.68438720703125\tTop1 Test accuracy: 71.5060806274414\tTop5 test acc: 97.25728607177734\n",
      "Epoch 56\tTop1 Train accuracy 75.70735931396484\tTop1 Test accuracy: 71.5060806274414\tTop5 test acc: 97.25728607177734\n",
      "Epoch 57\tTop1 Train accuracy 75.79927062988281\tTop1 Test accuracy: 71.5060806274414\tTop5 test acc: 97.25728607177734\n",
      "Epoch 58\tTop1 Train accuracy 75.82225036621094\tTop1 Test accuracy: 71.44097137451172\tTop5 test acc: 97.25728607177734\n",
      "Epoch 59\tTop1 Train accuracy 75.84523010253906\tTop1 Test accuracy: 71.44097137451172\tTop5 test acc: 97.25728607177734\n",
      "Epoch 60\tTop1 Train accuracy 75.89118194580078\tTop1 Test accuracy: 71.5060806274414\tTop5 test acc: 97.25728607177734\n",
      "Epoch 61\tTop1 Train accuracy 76.029052734375\tTop1 Test accuracy: 71.5060806274414\tTop5 test acc: 97.25728607177734\n",
      "Epoch 62\tTop1 Train accuracy 76.05203247070312\tTop1 Test accuracy: 71.5060806274414\tTop5 test acc: 97.25728607177734\n",
      "Epoch 63\tTop1 Train accuracy 76.12096405029297\tTop1 Test accuracy: 71.5060806274414\tTop5 test acc: 97.25728607177734\n",
      "Epoch 64\tTop1 Train accuracy 76.1439437866211\tTop1 Test accuracy: 71.5060806274414\tTop5 test acc: 97.25728607177734\n",
      "Epoch 65\tTop1 Train accuracy 76.18989562988281\tTop1 Test accuracy: 71.44097137451172\tTop5 test acc: 97.25728607177734\n",
      "Epoch 66\tTop1 Train accuracy 76.3047866821289\tTop1 Test accuracy: 71.37586975097656\tTop5 test acc: 97.3223876953125\n",
      "Epoch 67\tTop1 Train accuracy 76.41217041015625\tTop1 Test accuracy: 71.37586975097656\tTop5 test acc: 97.3223876953125\n",
      "Epoch 68\tTop1 Train accuracy 76.41217041015625\tTop1 Test accuracy: 71.37586975097656\tTop5 test acc: 97.38748931884766\n",
      "Epoch 69\tTop1 Train accuracy 76.52705383300781\tTop1 Test accuracy: 71.3107681274414\tTop5 test acc: 97.38748931884766\n",
      "Epoch 70\tTop1 Train accuracy 76.50408172607422\tTop1 Test accuracy: 71.24565887451172\tTop5 test acc: 97.38748931884766\n",
      "Epoch 71\tTop1 Train accuracy 76.61896514892578\tTop1 Test accuracy: 71.24565887451172\tTop5 test acc: 97.45259857177734\n",
      "Epoch 72\tTop1 Train accuracy 76.66492462158203\tTop1 Test accuracy: 71.3107681274414\tTop5 test acc: 97.45259857177734\n",
      "Epoch 73\tTop1 Train accuracy 76.71087646484375\tTop1 Test accuracy: 71.3107681274414\tTop5 test acc: 97.45259857177734\n",
      "Epoch 74\tTop1 Train accuracy 76.82576751708984\tTop1 Test accuracy: 71.3107681274414\tTop5 test acc: 97.45259857177734\n",
      "Epoch 75\tTop1 Train accuracy 76.8717269897461\tTop1 Test accuracy: 71.3107681274414\tTop5 test acc: 97.45259857177734\n",
      "Epoch 76\tTop1 Train accuracy 76.8717269897461\tTop1 Test accuracy: 71.3107681274414\tTop5 test acc: 97.45259857177734\n",
      "Epoch 77\tTop1 Train accuracy 76.91767883300781\tTop1 Test accuracy: 71.3107681274414\tTop5 test acc: 97.45259857177734\n",
      "Epoch 78\tTop1 Train accuracy 77.00959014892578\tTop1 Test accuracy: 71.3107681274414\tTop5 test acc: 97.45259857177734\n",
      "Epoch 79\tTop1 Train accuracy 77.05554962158203\tTop1 Test accuracy: 71.3107681274414\tTop5 test acc: 97.45259857177734\n",
      "Epoch 80\tTop1 Train accuracy 77.07852935791016\tTop1 Test accuracy: 71.37586975097656\tTop5 test acc: 97.45259857177734\n",
      "Epoch 81\tTop1 Train accuracy 77.11697387695312\tTop1 Test accuracy: 71.37586975097656\tTop5 test acc: 97.45259857177734\n",
      "Epoch 82\tTop1 Train accuracy 77.1474609375\tTop1 Test accuracy: 71.37586975097656\tTop5 test acc: 97.45259857177734\n",
      "Epoch 83\tTop1 Train accuracy 77.25483703613281\tTop1 Test accuracy: 71.44097137451172\tTop5 test acc: 97.45259857177734\n",
      "Epoch 84\tTop1 Train accuracy 77.27781677246094\tTop1 Test accuracy: 71.5060806274414\tTop5 test acc: 97.45259857177734\n",
      "Epoch 85\tTop1 Train accuracy 77.36222839355469\tTop1 Test accuracy: 71.57118225097656\tTop5 test acc: 97.45259857177734\n",
      "Epoch 86\tTop1 Train accuracy 77.38520050048828\tTop1 Test accuracy: 71.57118225097656\tTop5 test acc: 97.45259857177734\n",
      "Epoch 87\tTop1 Train accuracy 77.38520050048828\tTop1 Test accuracy: 71.57118225097656\tTop5 test acc: 97.45259857177734\n",
      "Epoch 88\tTop1 Train accuracy 77.4081802368164\tTop1 Test accuracy: 71.57118225097656\tTop5 test acc: 97.45259857177734\n",
      "Epoch 89\tTop1 Train accuracy 77.45413970947266\tTop1 Test accuracy: 71.57118225097656\tTop5 test acc: 97.45259857177734\n",
      "Epoch 90\tTop1 Train accuracy 77.47711181640625\tTop1 Test accuracy: 71.57118225097656\tTop5 test acc: 97.45259857177734\n",
      "Epoch 91\tTop1 Train accuracy 77.56903076171875\tTop1 Test accuracy: 71.57118225097656\tTop5 test acc: 97.45259857177734\n",
      "Epoch 92\tTop1 Train accuracy 77.59200286865234\tTop1 Test accuracy: 71.57118225097656\tTop5 test acc: 97.45259857177734\n",
      "Epoch 93\tTop1 Train accuracy 77.61498260498047\tTop1 Test accuracy: 71.57118225097656\tTop5 test acc: 97.45259857177734\n",
      "Epoch 94\tTop1 Train accuracy 77.61498260498047\tTop1 Test accuracy: 71.57118225097656\tTop5 test acc: 97.45259857177734\n",
      "Epoch 95\tTop1 Train accuracy 77.68391418457031\tTop1 Test accuracy: 71.63628387451172\tTop5 test acc: 97.45259857177734\n",
      "Epoch 96\tTop1 Train accuracy 77.72987365722656\tTop1 Test accuracy: 71.63628387451172\tTop5 test acc: 97.45259857177734\n",
      "Epoch 97\tTop1 Train accuracy 77.75285339355469\tTop1 Test accuracy: 71.63628387451172\tTop5 test acc: 97.45259857177734\n",
      "Epoch 98\tTop1 Train accuracy 77.75285339355469\tTop1 Test accuracy: 71.63628387451172\tTop5 test acc: 97.3223876953125\n",
      "Epoch 99\tTop1 Train accuracy 77.7988052368164\tTop1 Test accuracy: 71.7013931274414\tTop5 test acc: 97.3223876953125\n"
     ]
    }
   ]
  },
  {
   "cell_type": "code",
   "execution_count": 17,
   "outputs": [],
   "source": [
    "torch.save(model.state_dict(), 'fine_tuned_MSO_prelim.pth')"
   ],
   "metadata": {
    "collapsed": false,
    "pycharm": {
     "name": "#%%\n"
    }
   }
  }
 ]
}